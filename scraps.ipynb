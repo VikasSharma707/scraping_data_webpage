{
  "nbformat": 4,
  "nbformat_minor": 0,
  "metadata": {
    "colab": {
      "name": "scraps.ipynb",
      "provenance": []
    },
    "kernelspec": {
      "name": "python3",
      "display_name": "Python 3"
    },
    "language_info": {
      "name": "python"
    }
  },
  "cells": [
    {
      "cell_type": "code",
      "execution_count": null,
      "metadata": {
        "id": "fEmn3gLjyDEu"
      },
      "outputs": [],
      "source": [
        "from bs4 import BeautifulSoup\n",
        "import requests\n",
        "import pandas as pd"
      ]
    },
    {
      "cell_type": "code",
      "source": [
        "url = 'https://www.flipkart.com/search?q=iphone&otracker=search&otracker1=search&marketplace=FLIPKART&as-show=on&as=off'\n",
        "req = requests.get(url)\n",
        "soup = BeautifulSoup(req.content, 'html.parser')"
      ],
      "metadata": {
        "id": "yvKjMPwqyRnk"
      },
      "execution_count": null,
      "outputs": []
    },
    {
      "cell_type": "code",
      "source": [
        "name = soup.find_all('div',{'class':'_4rR01T'})\n",
        "price = soup.find_all('div',{'class':'_30jeq3 _1_WHN1'})\n",
        "ratings = soup.find_all('div',{'class':'_3LWZlK'})\n",
        "#image = soup.find_all('div',{'class':'CXW8mj'})\n",
        "\n",
        "nm = []\n",
        "pr =[]\n",
        "rt = []\n",
        "im = []\n",
        "for i in name:\n",
        "  nm.append(i.text)\n",
        "for i in price:\n",
        "  pr.append(i.text)\n",
        "for i in range(len(nm)):\n",
        "  rt.append(ratings[i].text)\n",
        "#for i in image:\n",
        "  #im.append(i.text)"
      ],
      "metadata": {
        "id": "zQg7VDkNy_ft"
      },
      "execution_count": null,
      "outputs": []
    },
    {
      "cell_type": "code",
      "source": [
        "data = {'NAME':nm,\n",
        "        'PRICE':pr,\n",
        "        'RATINGS':rt\n",
        "        }\n",
        "df = pd.DataFrame(data)"
      ],
      "metadata": {
        "id": "WzaoxKTF0GUC"
      },
      "execution_count": null,
      "outputs": []
    },
    {
      "cell_type": "code",
      "source": [
        "print(df)"
      ],
      "metadata": {
        "colab": {
          "base_uri": "https://localhost:8080/"
        },
        "id": "mUZBGxWW0iLo",
        "outputId": "52912b0b-cbc7-4414-a524-a1aa2eda28ec"
      },
      "execution_count": null,
      "outputs": [
        {
          "output_type": "stream",
          "name": "stdout",
          "text": [
            "                                                 NAME    PRICE RATINGS\n",
            "0                 APPLE iPhone 12 Mini (Black, 64 GB)  ₹41,299     4.5\n",
            "1                      APPLE iPhone SE (White, 64 GB)  ₹29,299     4.5\n",
            "2                     APPLE iPhone SE (Black, 128 GB)  ₹32,299     4.5\n",
            "3                      APPLE iPhone SE (Black, 64 GB)  ₹29,299     4.5\n",
            "4                        APPLE iPhone SE (Red, 64 GB)  ₹29,299     4.5\n",
            "5                       APPLE iPhone SE (Red, 128 GB)  ₹31,299     4.5\n",
            "6                     APPLE iPhone SE (White, 128 GB)  ₹32,299     4.5\n",
            "7                      APPLE iPhone 12 (Black, 64 GB)  ₹53,999     4.7\n",
            "8                  APPLE iPhone 12 Mini (Blue, 64 GB)  ₹41,299     4.5\n",
            "9                APPLE iPhone 12 Mini (Purple, 64 GB)  ₹41,299     4.5\n",
            "10                     APPLE iPhone 11 (Black, 64 GB)  ₹49,900     4.6\n",
            "11  Apple iPhone XR ((PRODUCT)RED, 64 GB) (Include...  ₹39,999     4.6\n",
            "12                   APPLE iPhone 11 (Purple, 128 GB)  ₹54,900     4.6\n",
            "13                    APPLE iPhone 11 (Black, 128 GB)  ₹54,900     4.6\n",
            "14                      APPLE iPhone SE (Red, 256 GB)  ₹44,999     4.5\n",
            "15                    APPLE iPhone 11 (White, 128 GB)  ₹54,900     4.6\n",
            "16             APPLE iPhone XR ((PRODUCT)RED, 128 GB)  ₹44,999     4.6\n",
            "17                APPLE iPhone 13 Mini (Blue, 256 GB)  ₹79,900     4.6\n",
            "18                 APPLE iPhone 13 (Midnight, 256 GB)  ₹84,900     4.7\n",
            "19                APPLE iPhone 12 Mini (Blue, 256 GB)  ₹74,900     4.5\n",
            "20                    APPLE iPhone SE (Black, 256 GB)  ₹44,999     4.5\n",
            "21               APPLE iPhone 12 Mini (Black, 256 GB)  ₹74,900     4.5\n",
            "22                       APPLE iPhone 11 (Red, 64 GB)  ₹49,900     4.6\n",
            "23                    APPLE iPhone XR (White, 128 GB)  ₹44,999     4.6\n"
          ]
        }
      ]
    },
    {
      "cell_type": "code",
      "source": [
        ""
      ],
      "metadata": {
        "id": "KKvxGTMx0ka5"
      },
      "execution_count": null,
      "outputs": []
    }
  ]
}